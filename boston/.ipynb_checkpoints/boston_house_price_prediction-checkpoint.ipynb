{
 "cells": [
  {
   "cell_type": "code",
   "execution_count": 1,
   "id": "178b511f",
   "metadata": {},
   "outputs": [
    {
     "ename": "ModuleNotFoundError",
     "evalue": "No module named 'tensorflow'",
     "output_type": "error",
     "traceback": [
      "\u001b[0;31m---------------------------------------------------------------------------\u001b[0m",
      "\u001b[0;31mModuleNotFoundError\u001b[0m                       Traceback (most recent call last)",
      "Cell \u001b[0;32mIn[1], line 3\u001b[0m\n\u001b[1;32m      1\u001b[0m \u001b[38;5;28;01mimport\u001b[39;00m \u001b[38;5;21;01mpandas\u001b[39;00m \u001b[38;5;28;01mas\u001b[39;00m \u001b[38;5;21;01mpd\u001b[39;00m\n\u001b[1;32m      2\u001b[0m \u001b[38;5;28;01mimport\u001b[39;00m \u001b[38;5;21;01mnumpy\u001b[39;00m \u001b[38;5;28;01mas\u001b[39;00m \u001b[38;5;21;01mnp\u001b[39;00m\n\u001b[0;32m----> 3\u001b[0m \u001b[38;5;28;01mimport\u001b[39;00m \u001b[38;5;21;01mtensorflow\u001b[39;00m \u001b[38;5;28;01mas\u001b[39;00m \u001b[38;5;21;01mtf\u001b[39;00m\n",
      "\u001b[0;31mModuleNotFoundError\u001b[0m: No module named 'tensorflow'"
     ]
    }
   ],
   "source": [
    "import pandas as pd\n",
    "import numpy as np\n",
    "import tensorflow as tf"
   ]
  },
  {
   "cell_type": "code",
   "execution_count": 8,
   "id": "62f14b09",
   "metadata": {},
   "outputs": [
    {
     "data": {
      "text/html": [
       "<div>\n",
       "<style scoped>\n",
       "    .dataframe tbody tr th:only-of-type {\n",
       "        vertical-align: middle;\n",
       "    }\n",
       "\n",
       "    .dataframe tbody tr th {\n",
       "        vertical-align: top;\n",
       "    }\n",
       "\n",
       "    .dataframe thead th {\n",
       "        text-align: right;\n",
       "    }\n",
       "</style>\n",
       "<table border=\"1\" class=\"dataframe\">\n",
       "  <thead>\n",
       "    <tr style=\"text-align: right;\">\n",
       "      <th></th>\n",
       "      <th>crim</th>\n",
       "      <th>zn</th>\n",
       "      <th>indus</th>\n",
       "      <th>chas</th>\n",
       "      <th>nox</th>\n",
       "      <th>rm</th>\n",
       "      <th>age</th>\n",
       "      <th>dis</th>\n",
       "      <th>rad</th>\n",
       "      <th>tax</th>\n",
       "      <th>ptratio</th>\n",
       "      <th>b</th>\n",
       "      <th>lstat</th>\n",
       "      <th>MEDV</th>\n",
       "    </tr>\n",
       "  </thead>\n",
       "  <tbody>\n",
       "    <tr>\n",
       "      <th>0</th>\n",
       "      <td>0.00632</td>\n",
       "      <td>18.0</td>\n",
       "      <td>2.31</td>\n",
       "      <td>0</td>\n",
       "      <td>0.538</td>\n",
       "      <td>6.575</td>\n",
       "      <td>65.2</td>\n",
       "      <td>4.0900</td>\n",
       "      <td>1</td>\n",
       "      <td>296</td>\n",
       "      <td>15.3</td>\n",
       "      <td>396.90</td>\n",
       "      <td>4.98</td>\n",
       "      <td>24.0</td>\n",
       "    </tr>\n",
       "    <tr>\n",
       "      <th>1</th>\n",
       "      <td>0.02731</td>\n",
       "      <td>0.0</td>\n",
       "      <td>7.07</td>\n",
       "      <td>0</td>\n",
       "      <td>0.469</td>\n",
       "      <td>6.421</td>\n",
       "      <td>78.9</td>\n",
       "      <td>4.9671</td>\n",
       "      <td>2</td>\n",
       "      <td>242</td>\n",
       "      <td>17.8</td>\n",
       "      <td>396.90</td>\n",
       "      <td>9.14</td>\n",
       "      <td>21.6</td>\n",
       "    </tr>\n",
       "    <tr>\n",
       "      <th>2</th>\n",
       "      <td>0.02729</td>\n",
       "      <td>0.0</td>\n",
       "      <td>7.07</td>\n",
       "      <td>0</td>\n",
       "      <td>0.469</td>\n",
       "      <td>7.185</td>\n",
       "      <td>61.1</td>\n",
       "      <td>4.9671</td>\n",
       "      <td>2</td>\n",
       "      <td>242</td>\n",
       "      <td>17.8</td>\n",
       "      <td>392.83</td>\n",
       "      <td>4.03</td>\n",
       "      <td>34.7</td>\n",
       "    </tr>\n",
       "    <tr>\n",
       "      <th>3</th>\n",
       "      <td>0.03237</td>\n",
       "      <td>0.0</td>\n",
       "      <td>2.18</td>\n",
       "      <td>0</td>\n",
       "      <td>0.458</td>\n",
       "      <td>6.998</td>\n",
       "      <td>45.8</td>\n",
       "      <td>6.0622</td>\n",
       "      <td>3</td>\n",
       "      <td>222</td>\n",
       "      <td>18.7</td>\n",
       "      <td>394.63</td>\n",
       "      <td>2.94</td>\n",
       "      <td>33.4</td>\n",
       "    </tr>\n",
       "    <tr>\n",
       "      <th>4</th>\n",
       "      <td>0.06905</td>\n",
       "      <td>0.0</td>\n",
       "      <td>2.18</td>\n",
       "      <td>0</td>\n",
       "      <td>0.458</td>\n",
       "      <td>7.147</td>\n",
       "      <td>54.2</td>\n",
       "      <td>6.0622</td>\n",
       "      <td>3</td>\n",
       "      <td>222</td>\n",
       "      <td>18.7</td>\n",
       "      <td>396.90</td>\n",
       "      <td>5.33</td>\n",
       "      <td>36.2</td>\n",
       "    </tr>\n",
       "  </tbody>\n",
       "</table>\n",
       "</div>"
      ],
      "text/plain": [
       "      crim    zn  indus  chas    nox     rm   age     dis  rad  tax  ptratio  \\\n",
       "0  0.00632  18.0   2.31     0  0.538  6.575  65.2  4.0900    1  296     15.3   \n",
       "1  0.02731   0.0   7.07     0  0.469  6.421  78.9  4.9671    2  242     17.8   \n",
       "2  0.02729   0.0   7.07     0  0.469  7.185  61.1  4.9671    2  242     17.8   \n",
       "3  0.03237   0.0   2.18     0  0.458  6.998  45.8  6.0622    3  222     18.7   \n",
       "4  0.06905   0.0   2.18     0  0.458  7.147  54.2  6.0622    3  222     18.7   \n",
       "\n",
       "        b  lstat  MEDV  \n",
       "0  396.90   4.98  24.0  \n",
       "1  396.90   9.14  21.6  \n",
       "2  392.83   4.03  34.7  \n",
       "3  394.63   2.94  33.4  \n",
       "4  396.90   5.33  36.2  "
      ]
     },
     "execution_count": 8,
     "metadata": {},
     "output_type": "execute_result"
    }
   ],
   "source": [
    "df=pd.read_csv(\"1_boston_housing.csv\")\n",
    "df.head()"
   ]
  },
  {
   "cell_type": "code",
   "execution_count": 9,
   "id": "a29337a2",
   "metadata": {},
   "outputs": [
    {
     "data": {
      "text/plain": [
       "crim       0\n",
       "zn         0\n",
       "indus      0\n",
       "chas       0\n",
       "nox        0\n",
       "rm         0\n",
       "age        0\n",
       "dis        0\n",
       "rad        0\n",
       "tax        0\n",
       "ptratio    0\n",
       "b          0\n",
       "lstat      0\n",
       "MEDV       0\n",
       "dtype: int64"
      ]
     },
     "execution_count": 9,
     "metadata": {},
     "output_type": "execute_result"
    }
   ],
   "source": [
    "df.isnull().sum()"
   ]
  },
  {
   "cell_type": "code",
   "execution_count": 10,
   "id": "c6bd7ad3",
   "metadata": {},
   "outputs": [
    {
     "data": {
      "text/plain": [
       "crim         3.613524\n",
       "zn          11.363636\n",
       "indus       11.136779\n",
       "chas         0.069170\n",
       "nox          0.554695\n",
       "rm           6.284634\n",
       "age         68.574901\n",
       "dis          3.795043\n",
       "rad          9.549407\n",
       "tax        408.237154\n",
       "ptratio     18.455534\n",
       "b          356.674032\n",
       "lstat       12.653063\n",
       "MEDV        22.532806\n",
       "dtype: float64"
      ]
     },
     "execution_count": 10,
     "metadata": {},
     "output_type": "execute_result"
    }
   ],
   "source": [
    "df.mean()"
   ]
  },
  {
   "cell_type": "code",
   "execution_count": 11,
   "id": "c9ed5174",
   "metadata": {},
   "outputs": [],
   "source": [
    "df.fillna(df.mean(),inplace=True)"
   ]
  },
  {
   "cell_type": "code",
   "execution_count": 12,
   "id": "5a1f4338",
   "metadata": {},
   "outputs": [],
   "source": [
    "x = df.drop('MEDV',axis=1)\n",
    "y=df['MEDV']"
   ]
  },
  {
   "cell_type": "code",
   "execution_count": 13,
   "id": "2853abe2",
   "metadata": {},
   "outputs": [
    {
     "name": "stdout",
     "output_type": "stream",
     "text": [
      "shape of scaled x train: (354, 13)\n",
      "shape of scaled x test: (152, 13)\n"
     ]
    }
   ],
   "source": [
    "from sklearn.model_selection import train_test_split\n",
    "from sklearn.preprocessing import MinMaxScaler\n",
    "x_train,x_test,y_train,y_test = train_test_split(x,y,test_size=0.3)\n",
    "scale = MinMaxScaler()\n",
    "x_train_scaled = scale.fit_transform(x_train)\n",
    "x_test_scaled = scale.fit_transform(x_test)\n",
    "print(\"shape of scaled x train:\",x_train_scaled.shape)\n",
    "print(\"shape of scaled x test:\",x_test_scaled.shape)"
   ]
  },
  {
   "cell_type": "code",
   "execution_count": 14,
   "id": "5b924252",
   "metadata": {},
   "outputs": [
    {
     "data": {
      "text/plain": [
       "array([0.00185479, 0.        , 0.35007331, 0.        , 0.33333333,\n",
       "       0.45836561, 0.8784758 , 0.12126145, 0.2173913 , 0.46755725,\n",
       "       0.55319149, 0.86890413, 0.38714128])"
      ]
     },
     "execution_count": 14,
     "metadata": {},
     "output_type": "execute_result"
    }
   ],
   "source": [
    "x_train_scaled[0]"
   ]
  },
  {
   "cell_type": "code",
   "execution_count": 15,
   "id": "a8433ce0",
   "metadata": {},
   "outputs": [
    {
     "data": {
      "text/plain": [
       "(13,)"
      ]
     },
     "execution_count": 15,
     "metadata": {},
     "output_type": "execute_result"
    }
   ],
   "source": [
    "x_train_scaled[0].shape"
   ]
  },
  {
   "cell_type": "code",
   "execution_count": 16,
   "id": "23a24cb8",
   "metadata": {},
   "outputs": [],
   "source": [
    "from tensorflow.keras.models import Sequential\n",
    "from tensorflow.keras.layers import *\n",
    "\n",
    "def house_price_prediction():\n",
    "    model=Sequential()\n",
    "    model.add(Dense(128,activation='relu',input_shape=(x_train_scaled[0].shape)))\n",
    "    model.add(Dense(64,activation='relu'))\n",
    "    model.add(Dense(32,activation='relu'))\n",
    "    model.add(Dense(16,activation='relu'))\n",
    "    model.add(Dense(1))\n",
    "    opt = tf.keras.optimizers.Adam()\n",
    "    model.compile(optimizer=opt,loss='mse',metrics=['mae'])\n",
    "    return model"
   ]
  },
  {
   "cell_type": "code",
   "execution_count": 17,
   "id": "b797f658",
   "metadata": {
    "scrolled": true
   },
   "outputs": [
    {
     "name": "stdout",
     "output_type": "stream",
     "text": [
      "WARNING:tensorflow:From C:\\Users\\HP\\anaconda3\\lib\\site-packages\\keras\\src\\backend.py:873: The name tf.get_default_graph is deprecated. Please use tf.compat.v1.get_default_graph instead.\n",
      "\n",
      "Epoch 1/100\n",
      "WARNING:tensorflow:From C:\\Users\\HP\\anaconda3\\lib\\site-packages\\keras\\src\\utils\\tf_utils.py:492: The name tf.ragged.RaggedTensorValue is deprecated. Please use tf.compat.v1.ragged.RaggedTensorValue instead.\n",
      "\n",
      "WARNING:tensorflow:From C:\\Users\\HP\\anaconda3\\lib\\site-packages\\keras\\src\\engine\\base_layer_utils.py:384: The name tf.executing_eagerly_outside_functions is deprecated. Please use tf.compat.v1.executing_eagerly_outside_functions instead.\n",
      "\n",
      "354/354 [==============================] - 4s 6ms/step - loss: 132.5248 - mae: 8.1768 - val_loss: 43.3825 - val_mae: 4.1635\n",
      "Epoch 2/100\n",
      "354/354 [==============================] - 1s 3ms/step - loss: 34.4645 - mae: 4.1704 - val_loss: 29.7983 - val_mae: 3.5766\n",
      "Epoch 3/100\n",
      "354/354 [==============================] - 1s 4ms/step - loss: 24.9508 - mae: 3.5777 - val_loss: 22.8252 - val_mae: 3.0823\n",
      "Epoch 4/100\n",
      "354/354 [==============================] - 1s 3ms/step - loss: 20.6754 - mae: 3.1756 - val_loss: 22.0252 - val_mae: 2.9692\n",
      "Epoch 5/100\n",
      "354/354 [==============================] - 1s 4ms/step - loss: 19.5429 - mae: 3.1440 - val_loss: 22.3935 - val_mae: 2.9883\n",
      "Epoch 6/100\n",
      "354/354 [==============================] - 1s 4ms/step - loss: 16.6634 - mae: 2.9130 - val_loss: 30.3474 - val_mae: 3.8828\n",
      "Epoch 7/100\n",
      "354/354 [==============================] - 1s 4ms/step - loss: 18.0976 - mae: 3.0391 - val_loss: 21.4647 - val_mae: 2.8647\n",
      "Epoch 8/100\n",
      "354/354 [==============================] - 1s 4ms/step - loss: 15.7162 - mae: 2.8482 - val_loss: 30.4808 - val_mae: 3.7925\n",
      "Epoch 9/100\n",
      "354/354 [==============================] - 1s 3ms/step - loss: 14.3335 - mae: 2.7482 - val_loss: 30.6616 - val_mae: 3.9897\n",
      "Epoch 10/100\n",
      "354/354 [==============================] - 1s 4ms/step - loss: 14.3553 - mae: 2.7799 - val_loss: 22.6851 - val_mae: 2.9026\n",
      "Epoch 11/100\n",
      "354/354 [==============================] - 1s 4ms/step - loss: 14.2964 - mae: 2.7603 - val_loss: 23.0838 - val_mae: 2.8307\n",
      "Epoch 12/100\n",
      "354/354 [==============================] - 1s 4ms/step - loss: 15.0057 - mae: 2.9114 - val_loss: 25.2359 - val_mae: 3.3123\n",
      "Epoch 13/100\n",
      "354/354 [==============================] - 1s 4ms/step - loss: 11.6442 - mae: 2.5080 - val_loss: 21.0496 - val_mae: 2.8316\n",
      "Epoch 14/100\n",
      "354/354 [==============================] - 1s 4ms/step - loss: 11.0700 - mae: 2.5095 - val_loss: 21.3875 - val_mae: 2.6977\n",
      "Epoch 15/100\n",
      "354/354 [==============================] - 1s 3ms/step - loss: 11.3862 - mae: 2.5403 - val_loss: 27.4772 - val_mae: 3.6275\n",
      "Epoch 16/100\n",
      "354/354 [==============================] - 1s 4ms/step - loss: 10.8391 - mae: 2.5071 - val_loss: 31.6003 - val_mae: 4.2212\n",
      "Epoch 17/100\n",
      "354/354 [==============================] - 1s 4ms/step - loss: 11.9717 - mae: 2.5907 - val_loss: 24.2340 - val_mae: 3.0080\n",
      "Epoch 18/100\n",
      "354/354 [==============================] - 1s 4ms/step - loss: 9.9308 - mae: 2.3962 - val_loss: 18.5598 - val_mae: 2.5676\n",
      "Epoch 19/100\n",
      "354/354 [==============================] - 1s 4ms/step - loss: 10.4840 - mae: 2.4873 - val_loss: 19.5408 - val_mae: 2.7299\n",
      "Epoch 20/100\n",
      "354/354 [==============================] - 1s 4ms/step - loss: 9.8216 - mae: 2.4032 - val_loss: 23.1039 - val_mae: 3.1802\n",
      "Epoch 21/100\n",
      "354/354 [==============================] - 1s 4ms/step - loss: 10.0263 - mae: 2.4226 - val_loss: 18.3671 - val_mae: 2.5563\n",
      "Epoch 22/100\n",
      "354/354 [==============================] - 1s 4ms/step - loss: 10.3591 - mae: 2.3917 - val_loss: 16.2399 - val_mae: 2.4277\n",
      "Epoch 23/100\n",
      "354/354 [==============================] - 2s 5ms/step - loss: 9.7678 - mae: 2.3044 - val_loss: 21.6951 - val_mae: 2.9448\n",
      "Epoch 24/100\n",
      "354/354 [==============================] - 2s 5ms/step - loss: 9.0237 - mae: 2.2160 - val_loss: 23.6445 - val_mae: 3.1922\n",
      "Epoch 25/100\n",
      "354/354 [==============================] - 2s 4ms/step - loss: 10.0351 - mae: 2.4008 - val_loss: 21.6597 - val_mae: 3.0119\n",
      "Epoch 26/100\n",
      "354/354 [==============================] - 1s 4ms/step - loss: 8.9465 - mae: 2.2275 - val_loss: 21.5345 - val_mae: 3.0058\n",
      "Epoch 27/100\n",
      "354/354 [==============================] - 2s 5ms/step - loss: 8.9511 - mae: 2.1784 - val_loss: 23.8097 - val_mae: 3.2773\n",
      "Epoch 28/100\n",
      "354/354 [==============================] - 1s 4ms/step - loss: 8.8892 - mae: 2.2289 - val_loss: 18.2888 - val_mae: 2.6110\n",
      "Epoch 29/100\n",
      "354/354 [==============================] - 1s 3ms/step - loss: 8.5092 - mae: 2.1907 - val_loss: 17.9178 - val_mae: 2.6829\n",
      "Epoch 30/100\n",
      "354/354 [==============================] - 1s 4ms/step - loss: 9.1210 - mae: 2.2488 - val_loss: 26.1943 - val_mae: 3.6656\n",
      "Epoch 31/100\n",
      "354/354 [==============================] - 2s 5ms/step - loss: 8.0362 - mae: 2.1520 - val_loss: 16.9067 - val_mae: 2.3584\n",
      "Epoch 32/100\n",
      "354/354 [==============================] - 2s 4ms/step - loss: 7.8209 - mae: 2.0909 - val_loss: 31.6103 - val_mae: 4.3675\n",
      "Epoch 33/100\n",
      "354/354 [==============================] - 1s 4ms/step - loss: 9.4267 - mae: 2.2912 - val_loss: 20.2893 - val_mae: 3.0251\n",
      "Epoch 34/100\n",
      "354/354 [==============================] - 1s 4ms/step - loss: 8.4432 - mae: 2.1079 - val_loss: 15.5934 - val_mae: 2.4639\n",
      "Epoch 35/100\n",
      "354/354 [==============================] - 2s 4ms/step - loss: 8.1830 - mae: 2.1233 - val_loss: 19.7720 - val_mae: 2.8534\n",
      "Epoch 36/100\n",
      "354/354 [==============================] - 1s 4ms/step - loss: 7.8840 - mae: 2.1282 - val_loss: 23.3364 - val_mae: 3.5676\n",
      "Epoch 37/100\n",
      "354/354 [==============================] - 1s 4ms/step - loss: 7.2855 - mae: 1.9904 - val_loss: 16.5238 - val_mae: 2.3741\n",
      "Epoch 38/100\n",
      "354/354 [==============================] - 1s 4ms/step - loss: 6.9920 - mae: 2.0167 - val_loss: 23.2059 - val_mae: 2.8865\n",
      "Epoch 39/100\n",
      "354/354 [==============================] - 1s 4ms/step - loss: 8.0267 - mae: 2.1209 - val_loss: 23.3162 - val_mae: 3.4413\n",
      "Epoch 40/100\n",
      "354/354 [==============================] - 1s 4ms/step - loss: 8.4127 - mae: 2.1704 - val_loss: 23.2448 - val_mae: 3.4915\n",
      "Epoch 41/100\n",
      "354/354 [==============================] - 1s 4ms/step - loss: 7.4368 - mae: 2.0226 - val_loss: 19.8378 - val_mae: 3.0217\n",
      "Epoch 42/100\n",
      "354/354 [==============================] - 1s 4ms/step - loss: 6.7321 - mae: 1.9521 - val_loss: 19.4018 - val_mae: 2.9078\n",
      "Epoch 43/100\n",
      "354/354 [==============================] - 1s 4ms/step - loss: 7.4020 - mae: 2.0395 - val_loss: 17.7614 - val_mae: 2.8432\n",
      "Epoch 44/100\n",
      "354/354 [==============================] - 2s 4ms/step - loss: 6.7112 - mae: 1.9863 - val_loss: 24.2310 - val_mae: 3.4063\n",
      "Epoch 45/100\n",
      "354/354 [==============================] - 1s 4ms/step - loss: 7.1567 - mae: 2.0634 - val_loss: 16.5245 - val_mae: 2.4505\n",
      "Epoch 46/100\n",
      "354/354 [==============================] - 1s 4ms/step - loss: 7.8209 - mae: 2.0344 - val_loss: 19.9574 - val_mae: 2.8710\n",
      "Epoch 47/100\n",
      "354/354 [==============================] - 1s 4ms/step - loss: 6.5622 - mae: 1.9083 - val_loss: 18.2717 - val_mae: 2.6563\n",
      "Epoch 48/100\n",
      "354/354 [==============================] - 1s 4ms/step - loss: 6.4849 - mae: 1.9020 - val_loss: 24.3803 - val_mae: 3.5519\n",
      "Epoch 49/100\n",
      "354/354 [==============================] - 1s 4ms/step - loss: 6.8359 - mae: 1.9425 - val_loss: 21.8403 - val_mae: 3.2997\n",
      "Epoch 50/100\n",
      "354/354 [==============================] - 1s 4ms/step - loss: 6.7832 - mae: 1.9480 - val_loss: 21.0535 - val_mae: 3.3220\n",
      "Epoch 51/100\n",
      "354/354 [==============================] - 1s 4ms/step - loss: 6.4341 - mae: 1.9111 - val_loss: 25.3258 - val_mae: 3.2226\n",
      "Epoch 52/100\n",
      "354/354 [==============================] - 1s 4ms/step - loss: 5.9078 - mae: 1.8046 - val_loss: 18.7550 - val_mae: 2.8448\n",
      "Epoch 53/100\n",
      "354/354 [==============================] - 1s 4ms/step - loss: 6.5648 - mae: 1.9208 - val_loss: 16.5238 - val_mae: 2.3858\n",
      "Epoch 54/100\n",
      "354/354 [==============================] - 1s 4ms/step - loss: 6.3569 - mae: 1.8565 - val_loss: 15.8929 - val_mae: 2.5125\n",
      "Epoch 55/100\n",
      "354/354 [==============================] - 1s 4ms/step - loss: 6.4571 - mae: 1.9213 - val_loss: 21.5975 - val_mae: 3.3685\n",
      "Epoch 56/100\n",
      "354/354 [==============================] - 1s 4ms/step - loss: 7.1630 - mae: 1.9666 - val_loss: 17.3553 - val_mae: 2.5095\n"
     ]
    },
    {
     "name": "stdout",
     "output_type": "stream",
     "text": [
      "Epoch 57/100\n",
      "354/354 [==============================] - 1s 3ms/step - loss: 6.4079 - mae: 1.8663 - val_loss: 17.3688 - val_mae: 2.7858\n",
      "Epoch 58/100\n",
      "354/354 [==============================] - 1s 3ms/step - loss: 5.6644 - mae: 1.7511 - val_loss: 15.8400 - val_mae: 2.3723\n",
      "Epoch 59/100\n",
      "354/354 [==============================] - 1s 4ms/step - loss: 5.7338 - mae: 1.8363 - val_loss: 24.2217 - val_mae: 3.8136\n",
      "Epoch 60/100\n",
      "354/354 [==============================] - 1s 4ms/step - loss: 5.2631 - mae: 1.7094 - val_loss: 22.1218 - val_mae: 3.4002\n",
      "Epoch 61/100\n",
      "354/354 [==============================] - 2s 5ms/step - loss: 7.2542 - mae: 1.9480 - val_loss: 21.5466 - val_mae: 3.2859\n",
      "Epoch 62/100\n",
      "354/354 [==============================] - 2s 4ms/step - loss: 5.8550 - mae: 1.8553 - val_loss: 16.8733 - val_mae: 2.9187\n",
      "Epoch 63/100\n",
      "354/354 [==============================] - 2s 4ms/step - loss: 5.6236 - mae: 1.7994 - val_loss: 19.0254 - val_mae: 3.1076\n",
      "Epoch 64/100\n",
      "354/354 [==============================] - 2s 5ms/step - loss: 5.3162 - mae: 1.7387 - val_loss: 29.3737 - val_mae: 4.4050\n",
      "Epoch 65/100\n",
      "354/354 [==============================] - 2s 4ms/step - loss: 5.4638 - mae: 1.7242 - val_loss: 14.8769 - val_mae: 2.3205\n",
      "Epoch 66/100\n",
      "354/354 [==============================] - 1s 4ms/step - loss: 5.6428 - mae: 1.7606 - val_loss: 19.7180 - val_mae: 3.0388\n",
      "Epoch 67/100\n",
      "354/354 [==============================] - 1s 4ms/step - loss: 5.3743 - mae: 1.7737 - val_loss: 20.5970 - val_mae: 2.9370\n",
      "Epoch 68/100\n",
      "354/354 [==============================] - 1s 4ms/step - loss: 5.2919 - mae: 1.7729 - val_loss: 15.2080 - val_mae: 2.2792\n",
      "Epoch 69/100\n",
      "354/354 [==============================] - 2s 5ms/step - loss: 6.6084 - mae: 1.9245 - val_loss: 17.5909 - val_mae: 2.8328\n",
      "Epoch 70/100\n",
      "354/354 [==============================] - 2s 5ms/step - loss: 6.9049 - mae: 1.9419 - val_loss: 17.7546 - val_mae: 3.0549\n",
      "Epoch 71/100\n",
      "354/354 [==============================] - 1s 4ms/step - loss: 5.1928 - mae: 1.7542 - val_loss: 18.6965 - val_mae: 2.8998\n",
      "Epoch 72/100\n",
      "354/354 [==============================] - 1s 4ms/step - loss: 4.9904 - mae: 1.6789 - val_loss: 16.4891 - val_mae: 2.6506\n",
      "Epoch 73/100\n",
      "354/354 [==============================] - 1s 4ms/step - loss: 5.2717 - mae: 1.7504 - val_loss: 18.2922 - val_mae: 2.9680\n",
      "Epoch 74/100\n",
      "354/354 [==============================] - 1s 4ms/step - loss: 4.9964 - mae: 1.6897 - val_loss: 16.6073 - val_mae: 2.4819\n",
      "Epoch 75/100\n",
      "354/354 [==============================] - 1s 4ms/step - loss: 5.7248 - mae: 1.8017 - val_loss: 16.1768 - val_mae: 2.7061\n",
      "Epoch 76/100\n",
      "354/354 [==============================] - 1s 4ms/step - loss: 5.5492 - mae: 1.8006 - val_loss: 15.5816 - val_mae: 2.7399\n",
      "Epoch 77/100\n",
      "354/354 [==============================] - 1s 4ms/step - loss: 4.7856 - mae: 1.6684 - val_loss: 15.5932 - val_mae: 2.6036\n",
      "Epoch 78/100\n",
      "354/354 [==============================] - 1s 4ms/step - loss: 4.8642 - mae: 1.6710 - val_loss: 19.3201 - val_mae: 3.2038\n",
      "Epoch 79/100\n",
      "354/354 [==============================] - 1s 4ms/step - loss: 4.5869 - mae: 1.6085 - val_loss: 17.2095 - val_mae: 2.6037\n",
      "Epoch 80/100\n",
      "354/354 [==============================] - 1s 4ms/step - loss: 4.7524 - mae: 1.6557 - val_loss: 15.2150 - val_mae: 2.4817\n",
      "Epoch 81/100\n",
      "354/354 [==============================] - 2s 4ms/step - loss: 4.5620 - mae: 1.6096 - val_loss: 18.2303 - val_mae: 2.9784\n",
      "Epoch 82/100\n",
      "354/354 [==============================] - 2s 4ms/step - loss: 4.4063 - mae: 1.5808 - val_loss: 21.2966 - val_mae: 3.4380\n",
      "Epoch 83/100\n",
      "354/354 [==============================] - 2s 4ms/step - loss: 5.4183 - mae: 1.7557 - val_loss: 15.6446 - val_mae: 2.6628\n",
      "Epoch 84/100\n",
      "354/354 [==============================] - 1s 4ms/step - loss: 5.6325 - mae: 1.7119 - val_loss: 14.1266 - val_mae: 2.4714\n",
      "Epoch 85/100\n",
      "354/354 [==============================] - 1s 4ms/step - loss: 4.7037 - mae: 1.6011 - val_loss: 16.1637 - val_mae: 2.7272\n",
      "Epoch 86/100\n",
      "354/354 [==============================] - 1s 4ms/step - loss: 4.0468 - mae: 1.5429 - val_loss: 20.7541 - val_mae: 3.4281\n",
      "Epoch 87/100\n",
      "354/354 [==============================] - 1s 4ms/step - loss: 4.2966 - mae: 1.5638 - val_loss: 15.8610 - val_mae: 2.6346\n",
      "Epoch 88/100\n",
      "354/354 [==============================] - 1s 4ms/step - loss: 5.0205 - mae: 1.6652 - val_loss: 15.1474 - val_mae: 2.6226\n",
      "Epoch 89/100\n",
      "354/354 [==============================] - 1s 4ms/step - loss: 4.3403 - mae: 1.5817 - val_loss: 16.3087 - val_mae: 2.7885\n",
      "Epoch 90/100\n",
      "354/354 [==============================] - 1s 4ms/step - loss: 4.4755 - mae: 1.6491 - val_loss: 15.3467 - val_mae: 2.4467\n",
      "Epoch 91/100\n",
      "354/354 [==============================] - 1s 4ms/step - loss: 3.9395 - mae: 1.5313 - val_loss: 19.8883 - val_mae: 3.2518\n",
      "Epoch 92/100\n",
      "354/354 [==============================] - 1s 4ms/step - loss: 4.4740 - mae: 1.6155 - val_loss: 15.9004 - val_mae: 2.6556\n",
      "Epoch 93/100\n",
      "354/354 [==============================] - 1s 4ms/step - loss: 4.0313 - mae: 1.4743 - val_loss: 18.2510 - val_mae: 3.0314\n",
      "Epoch 94/100\n",
      "354/354 [==============================] - 1s 4ms/step - loss: 4.7245 - mae: 1.6298 - val_loss: 15.4866 - val_mae: 2.7489\n",
      "Epoch 95/100\n",
      "354/354 [==============================] - 1s 4ms/step - loss: 4.1333 - mae: 1.5125 - val_loss: 13.2750 - val_mae: 2.3279\n",
      "Epoch 96/100\n",
      "354/354 [==============================] - 1s 4ms/step - loss: 4.2982 - mae: 1.5674 - val_loss: 18.0257 - val_mae: 2.8170\n",
      "Epoch 97/100\n",
      "354/354 [==============================] - 1s 4ms/step - loss: 4.0820 - mae: 1.5506 - val_loss: 13.1990 - val_mae: 2.1376\n",
      "Epoch 98/100\n",
      "354/354 [==============================] - 2s 4ms/step - loss: 4.0375 - mae: 1.5335 - val_loss: 17.6586 - val_mae: 2.8223\n",
      "Epoch 99/100\n",
      "354/354 [==============================] - 1s 3ms/step - loss: 3.9130 - mae: 1.5139 - val_loss: 15.7057 - val_mae: 2.7074\n",
      "Epoch 100/100\n",
      "354/354 [==============================] - 1s 4ms/step - loss: 4.2495 - mae: 1.5969 - val_loss: 12.4718 - val_mae: 2.2012\n"
     ]
    }
   ],
   "source": [
    "model= house_price_prediction()\n",
    "history=model.fit(x=x_train_scaled,y=y_train,batch_size=1,verbose=1,epochs=100,validation_data=(x_test_scaled,y_test))"
   ]
  },
  {
   "cell_type": "code",
   "execution_count": 18,
   "id": "5d9058de",
   "metadata": {},
   "outputs": [
    {
     "name": "stdout",
     "output_type": "stream",
     "text": [
      "actual output: 24.0\n",
      "1/1 [==============================] - 0s 282ms/step\n",
      "predicted output: [[26.275665]]\n"
     ]
    }
   ],
   "source": [
    "test_input = [[0.00154995, 0.        , 0.28962963, 0.        , 0.27777778,\n",
    "       0.56936665, 0.70442842, 0.15699879, 0.17391304, 0.3759542 ,\n",
    "       0.88297872, 0.99665297, 0.16851064]]\n",
    "print(\"actual output:\",24.0)\n",
    "print(\"predicted output:\",model.predict(test_input))"
   ]
  },
  {
   "cell_type": "code",
   "execution_count": null,
   "id": "9a8eed45",
   "metadata": {},
   "outputs": [],
   "source": []
  },
  {
   "cell_type": "code",
   "execution_count": 19,
   "id": "f94d08e6",
   "metadata": {},
   "outputs": [
    {
     "data": {
      "image/png": "[encoded data removed]",
      "text/plain": [
       "<Figure size 640x480 with 1 Axes>"
      ]
     },
     "metadata": {},
     "output_type": "display_data"
    }
   ],
   "source": [
    "import matplotlib.pyplot as plt\n",
    "\n",
    "# Plot training & validation loss values\n",
    "plt.plot(history.history['loss'])\n",
    "plt.plot(history.history['val_loss'])\n",
    "plt.title('Model Loss')\n",
    "plt.xlabel('Epoch')\n",
    "plt.ylabel('Loss')\n",
    "plt.legend(['Train', 'Validation'], loc='upper left')\n",
    "plt.show()\n"
   ]
  },
  {
   "cell_type": "code",
   "execution_count": 22,
   "id": "e4f511e7",
   "metadata": {},
   "outputs": [
    {
     "data": {
      "text/plain": [
       "Text(0, 0.5, 'MEDV')"
      ]
     },
     "execution_count": 22,
     "metadata": {},
     "output_type": "execute_result"
    },
    {
     "data": {
      "image/png": "[encoded data removed]",
      "text/plain": [
       "<Figure size 640x480 with 1 Axes>"
      ]
     },
     "metadata": {},
     "output_type": "display_data"
    }
   ],
   "source": [
    "plt.scatter('age','MEDV',data=df)\n",
    "plt.xlabel('age')\n",
    "plt.ylabel('MEDV')"
   ]
  },
  {
   "cell_type": "code",
   "execution_count": null,
   "id": "9d27e44c",
   "metadata": {},
   "outputs": [],
   "source": []
  }
 ],
 "metadata": {
  "kernelspec": {
   "display_name": "Python 3 (ipykernel)",
   "language": "python",
   "name": "python3"
  },
  "language_info": {
   "codemirror_mode": {
    "name": "ipython",
    "version": 3
   },
   "file_extension": ".py",
   "mimetype": "text/x-python",
   "name": "python",
   "nbconvert_exporter": "python",
   "pygments_lexer": "ipython3",
   "version": "3.10.6"
  }
 },
 "nbformat": 4,
 "nbformat_minor": 5
}
